{
 "cells": [
  {
   "cell_type": "markdown",
   "id": "03c66928",
   "metadata": {},
   "source": [
    "More complicated ODEs usually dont have analytic solutions and so we approximate their behaviour using numerical methods. Some common household methods include:\n",
    "\n",
    "1. **The Euler method** \\\n",
    "is the most basic approach \\\n",
    "where: $\\boxed{\\, y_{n+1} = y_n + h \\, f(t_n, y_n) \\,}$. \\\n",
    "It requires a tiny step $h$ to yield any accurate results, thus it's not preffered.\n",
    "\n",
    "\n",
    "2. **The Runge-Kutta methods**\n",
    "are a family of more accurate alterantives to the Euler method which improve on accuracy with evaluations at multiple points within an interval rather than just the beginning.\n",
    "Commonly known Runge-Kutta (further RGK) methods include:\n",
    "\n",
    "RGK2 - Second order uses 2 slope estimates to calculate the next value.\n",
    "- The slope at the beggining of the interval.\n",
    "- The slope at the end of the interval.\\\n",
    "where:\\\n",
    "$k1 = h \\cdot f(t_n, y_n)$\\\n",
    "$k2 = h \\cdot f(t_n + h, y_n + k1)$\\\n",
    "$\\boxed{\\, y_{n+1} = y_n + \\frac{1}{2}(k1 + k2)  \\,}$\n",
    "\n",
    "RGK4 - Fourth order uses 4 slope estimates to calculate the next value with half steps.\n",
    "- The slope at the beggining of the interval.\n",
    "- Two slopes in the middle.\n",
    "- The slope at the end of the interval.\\\n",
    "where:\\\n",
    "$k1 = h \\cdot f(t_n, y_n)$\\\n",
    "$k2 = h \\cdot f(t_n + \\frac{h}{2}, y_n + \\frac{k1}{2})$\\\n",
    "$k3 = h \\cdot f(t_n + \\frac{h}{2}, y_n + \\frac{k2}{2})$\\\n",
    "$k4 = h \\cdot f(t_n + h, y_n + k3)$\\\n",
    "$\\boxed{\\, y_{n+1} = y_n + \\frac{1}{6} \\cdot (k1 + k2 + k3 + k4) \\,}$ \\\n",
    "The RGK methods (especially RGK4) don't require as tiny of a step as The Euler method, making them much more computationally viable."
   ]
  },
  {
   "cell_type": "markdown",
   "id": "be52fa3c",
   "metadata": {},
   "source": [
    "**But what about further accuracy?**\\\n",
    "Some problems are extremely sensitive to even tiny changes/errors where they in response turn 'chaotic'.\n",
    "Simulations of such problems usually require a much higher degree of accuracy to yield any meaningful results and insights (and or Simplectic integrators).\n",
    "\n",
    "**The Taylor series expansion approximation**:\n",
    "\n",
    "$$\n",
    "y(t+h) = y(t) + h \\, y'(t) + \\frac{h^2}{2!} \\, y''(t) + \\frac{h^3}{3!} \\, y^{(3)}(t) + \\cdots\n",
    "$$\n",
    "or in more compact form:\n",
    "$$\n",
    "\\boxed{\\, y(t+h) \\; \\approx \\; \\sum_{k=0}^{n} \\frac{h^k}{k!} \\, y^{(k)}(t) \\,}\n",
    "$$\n",
    "where $n$ is the order of the Taylor expansion used in the numerical method."
   ]
  }
 ],
 "metadata": {
  "language_info": {
   "name": "python"
  }
 },
 "nbformat": 4,
 "nbformat_minor": 5
}
