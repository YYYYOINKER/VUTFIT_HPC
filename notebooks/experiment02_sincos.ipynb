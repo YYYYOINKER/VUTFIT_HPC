{
 "cells": [
  {
   "cell_type": "markdown",
   "id": "11da8000",
   "metadata": {},
   "source": [
    "Numerical solution of a system of ODEs\n",
    "\n",
    "Consider a simple initial value problem:\n",
    "\n",
    "$$\n",
    "\\begin{aligned}\n",
    "y'(t) &= -\\omega z(t) \\quad t \\in [0, 3], y(0) &= y_0.\\\\\n",
    "z'(t) &= \\omega y(t) \\quad t \\in [0, 3], z(0) &= z_0.\n",
    "\\end{aligned}\n",
    "$$"
   ]
  },
  {
   "cell_type": "markdown",
   "id": "c496345e",
   "metadata": {},
   "source": [
    "\n",
    "To find the analytic solution:\n",
    "\n",
    "$$\n",
    "\\begin{aligned}\n",
    "y' &= \\lambda y \\\\\n",
    "\\frac{dy}{dt} &= \\lambda y \\quad / \\cdot dt \\space; \\div y\\\\\n",
    "\\frac{dy}{y} &= \\lambda dt \\quad / \\int \\\\\n",
    "\\int \\frac{dy}{y} &= \\int \\lambda dt \\\\\n",
    "\\ln|y| &= \\lambda t + C \\quad / e \\\\\n",
    "|y| &= e^{\\lambda t + C} \\\\ \n",
    "y &= \\pm e^{\\lambda t} \\cdot e^C \\\\\n",
    "\\end{aligned}\n",
    "$$\n",
    "\n",
    "with initial condition $y(0) = 1$ we get:\n",
    "\n",
    "$$\n",
    "\\begin{aligned}\n",
    "\\boxed{\\, y(t) = e^{\\lambda t} \\,}\n",
    "\\end{aligned}\n",
    "$$\n"
   ]
  }
 ],
 "metadata": {
  "language_info": {
   "name": "python"
  }
 },
 "nbformat": 4,
 "nbformat_minor": 5
}
