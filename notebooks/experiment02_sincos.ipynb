{
 "cells": [
  {
   "cell_type": "markdown",
   "id": "11da8000",
   "metadata": {},
   "source": [
    "Numerical solution of a system of ODEs\n",
    "\n",
    "Consider a simple initial value problem:\n",
    "\n",
    "$$\n",
    "\\begin{aligned}\n",
    "y'(t) &= -\\omega z(t) \\quad t \\in [0, 3], y(0) &= y_0.\\\\\n",
    "z'(t) &= \\omega y(t) \\quad t \\in [0, 3], z(0) &= z_0.\n",
    "\\end{aligned}\n",
    "$$"
   ]
  },
  {
   "cell_type": "markdown",
   "id": "c496345e",
   "metadata": {},
   "source": [
    "\n",
    "To find the analytic solution:\n",
    "\n",
    "$$\n",
    "\\begin{aligned}\n",
    "y'' &= -\\omega z'(t) \\\\\n",
    "\\end{aligned}\n",
    "$$\n",
    "\n",
    "using second equation\\\n",
    "\n",
    "$$\n",
    "\\begin{aligned}\n",
    "y'' &= -\\omega z'(t) \\\n",
    "z'(t) = \\omega y(t)\\\n",
    "\n",
    "y''(t) = -\\omega(\\omega y(t)) = -\\omega^{2} y(t).\n",
    "\\end{aligned}\n",
    "$$\n",
    "\n",
    "with initial condition $y(0) = 1$ we get:\n",
    "\n",
    "$$\n",
    "\n",
    "$$\n"
   ]
  }
 ],
 "metadata": {
  "language_info": {
   "name": "python"
  }
 },
 "nbformat": 4,
 "nbformat_minor": 5
}
