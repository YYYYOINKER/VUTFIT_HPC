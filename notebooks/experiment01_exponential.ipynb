{
 "cells": [
  {
   "cell_type": "markdown",
   "id": "3be12a57",
   "metadata": {},
   "source": [
    "Numerical solutions of ODEs\n",
    "\n",
    "Consider a simple initial value problem:\n",
    "\n",
    "$$\n",
    "\\begin{aligned}\n",
    "y'(t) &= \\lambda y(t) \\quad t \\in [0, 3], \\\\\n",
    "y(0) &= y_0.\n",
    "\\end{aligned}\n",
    "$$"
   ]
  },
  {
   "cell_type": "markdown",
   "id": "b2b4a60d",
   "metadata": {},
   "source": [
    "\n",
    "To find the analytic solution:\n",
    "\n",
    "$$\n",
    "\\begin{aligned}\n",
    "y' &= \\lambda y \\\\\n",
    "\\frac{dy}{dt} &= \\lambda y \\quad / \\cdot dt \\space; \\div y\\\\\n",
    "\\frac{dy}{y} &= \\lambda \\quad / \\int \\\\\n",
    "\\int \\frac{dy}{y} &= \\int \\lambda dt \\\\\n",
    "\\ln|y| &= \\lambda t + C \\quad / e \\\\\n",
    "|y| &= e^{\\lambda t + C} \\\\ \n",
    "y &= \\pm e^{\\lambda t} \\cdot e^C \\\\\n",
    "\\end{aligned}\n",
    "$$\n",
    "\n",
    "with initial condition $y(0) = 1$ we get:\n",
    "\n",
    "$$\n",
    "\\begin{aligned}\n",
    "\\boxed{\\, y(t) = e^{\\lambda t} \\,}\n",
    "\\end{aligned}\n",
    "$$\n"
   ]
  },
  {
   "cell_type": "markdown",
   "id": "3a8ef7f8",
   "metadata": {},
   "source": [
    "**But what about further accuracy?**\\\n",
    "Some problems are extremely sensitive to even tiny changes/errors where they in response turn 'chaotic'.\n",
    "Simulations of such problems usually require a much higher degree of accuracy to yield any meaningful results and insights (and or Simplectic integrators).\n",
    "\n",
    "The **Taylor series expansion approximation**:\n",
    "\n",
    "$$\n",
    "y(t+h) = y(t) + h \\, y'(t) + \\frac{h^2}{2!} \\, y''(t) + \\frac{h^3}{3!} \\, y^{(3)}(t) + \\cdots\n",
    "$$\n",
    "or in more compact form:\n",
    "$$\n",
    "\\boxed{\\, y(t+h) \\; \\approx \\; \\sum_{k=0}^{n} \\frac{h^k}{k!} \\, y^{(k)}(t) \\,}\n",
    "$$\n",
    "where $n$ is the order of the Taylor expansion used in the numerical method."
   ]
  }
 ],
 "metadata": {
  "language_info": {
   "name": "python"
  }
 },
 "nbformat": 4,
 "nbformat_minor": 5
}
